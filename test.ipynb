{
 "cells": [
  {
   "cell_type": "code",
   "execution_count": 36,
   "metadata": {},
   "outputs": [],
   "source": [
    "import requests\n",
    "import json # using .json to reorganize raw data\n",
    "\n",
    "favorites = {}\n",
    "fav_artist_list = []\n",
    "ts_albums = [\"Taylor Swift\", \"Fearless\", \"Speak Now\", \"Red\", \"1989\", \"Reputation\", \n",
    "            \"Lover\", \"Folklore\", \"Evermore\", \"Midnights\"]\n",
    "fav_albums = {}\n",
    "\n",
    "# setup ts_albums\n",
    "for album in ts_albums:\n",
    "    fav_albums[album] = {\"likes\": 0}\n",
    "\n",
    "def initAPI(): \n",
    "    \"\"\"Given input of artist name, returns dictionary of api\"\"\"\n",
    "\n",
    "    url = \"https://youtube-music1.p.rapidapi.com/v2/search\"\n",
    "    querystring = {\"query\":\"Taylor Swift\"}\n",
    "    headers = {\n",
    "\t    \"X-RapidAPI-Key\": \"4a1e45ca8dmshcde31ef8a5baed3p1a2a7ejsn9952d2cf96bd\", # use personal key\n",
    "\t    \"X-RapidAPI-Host\": \"youtube-music1.p.rapidapi.com\"\n",
    "    }\n",
    "    response = requests.request(\"GET\", url, headers=headers, params=querystring)\n",
    "\n",
    "    dict = json.loads(response.text)\n",
    "    return dict\n",
    "\n",
    "\n",
    "def album():\n",
    "    \"\"\"input artist name, returns list of all artist's albums\"\"\"\n",
    "\n",
    "    api_dictionary = initAPI()\n",
    "    album_list = [] # create a new list to start from scratch\n",
    "    songlist = api_dictionary[\"result\"][\"songs\"] # dictionary values from API dictionary\n",
    "\n",
    "    for song in songlist:\n",
    "        if song[\"album\"][\"name\"] not in album_list: \n",
    "            album_list.append(song[\"album\"][\"name\"])\n",
    "    return album_list\n",
    "\n",
    "def song(album):\n",
    "    \"\"\"Given input of artist name and album \n",
    "    name, returns songs in album if query is\n",
    "    found, if not, returns Information not found\"\"\"\n",
    "\n",
    "    song_list = []\n",
    "    api_dictionary = initAPI()\n",
    "    song_data = api_dictionary[\"result\"][\"songs\"]\n",
    "\n",
    "    found = False # by default nothing is found\n",
    "\n",
    "    for song in song_data:\n",
    "        if song[\"album\"][\"name\"] == album: # if machine is able to find song name in dictionary then song names will be printed\n",
    "            song_list.append(song[\"name\"])\n",
    "            #print(song[\"name\"])\n",
    "            found = True # variable is now set as true\n",
    "\n",
    "    if found == False: \n",
    "        print(\"Information not found\")\n",
    "    return song_list\n",
    "\n",
    "def fav_artist(artist):\n",
    "    \"\"\"Creates dictionary with artist key and number of likes in value\"\"\"\n",
    "    fav_artist_list.append(artist)\n",
    "\n",
    "    for artist in fav_artist_list:\n",
    "        favorites[artist] = fav_artist_list.count(artist)\n",
    "    \n",
    "    sorted_dict = dict(sorted(favorites.items(), key=lambda x:x[1]))\n",
    "    res = dict(reversed(list(sorted_dict.items())))\n",
    "\n",
    "    return res\n",
    "\n",
    "def add_like(album):\n",
    "    fav_albums[album][\"likes\"] = fav_albums[album][\"likes\"] + 1\n"
   ]
  },
  {
   "cell_type": "code",
   "execution_count": 49,
   "metadata": {},
   "outputs": [],
   "source": [
    "# Example\n",
    "artist_input = \"\"\n",
    "album_input = \"1989\""
   ]
  },
  {
   "cell_type": "code",
   "execution_count": 6,
   "metadata": {},
   "outputs": [
    {
     "name": "stdout",
     "output_type": "stream",
     "text": [
      "['Midnights', 'Midnights (3am Edition)', 'reputation', \"Red (Taylor's Version)\", 'This Love (Taylor’s Version)', '1989', 'Speak Now', 'Lover', 'Bad Blood', \"Fearless (Taylor's Version)\", '1989 (Deluxe Edition)', 'Red']\n"
     ]
    }
   ],
   "source": [
    "print(album())"
   ]
  }
 ],
 "metadata": {
  "kernelspec": {
   "display_name": "Python 3.10.6 64-bit",
   "language": "python",
   "name": "python3"
  },
  "language_info": {
   "codemirror_mode": {
    "name": "ipython",
    "version": 3
   },
   "file_extension": ".py",
   "mimetype": "text/x-python",
   "name": "python",
   "nbconvert_exporter": "python",
   "pygments_lexer": "ipython3",
   "version": "3.10.8"
  },
  "orig_nbformat": 4,
  "vscode": {
   "interpreter": {
    "hash": "b0fa6594d8f4cbf19f97940f81e996739fb7646882a419484c72d19e05852a7e"
   }
  }
 },
 "nbformat": 4,
 "nbformat_minor": 2
}
