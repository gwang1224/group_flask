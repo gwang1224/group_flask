{
 "cells": [
  {
   "cell_type": "code",
   "execution_count": 1,
   "metadata": {},
   "outputs": [
    {
     "name": "stdout",
     "output_type": "stream",
     "text": [
      "{\"ok\":true,\"result\":{\"songs\":[{\"id\":\"nujn6wbr-e8\",\"name\":\"Harry Styles - As It Was\",\"title\":\"As It Was\",\"artists\":[{\"artist_id\":\"UCVacQ2t5GUZ2t_J3Ia9BynA\",\"name\":\"Harry Styles\"}],\"album\":{\"album_id\":\"MPREb_OVSyn3JG7Ru\",\"name\":\"Harry's House\"},\"duration\":168,\"thumbnail\":\"https://lh3.googleusercontent.com/F618Qwn2yRlYhCqlMtEMnFHajg4rGZSGeWOF4ro7l3I9R6y7aGfowqqiNQqj6CgVR0yepTK6T5aRSfAF=w120-h120-l90-rj\"},{\"id\":\"oHVVoe2Vj8s\",\"name\":\"Harry Styles - Sign of the Times\",\"title\":\"Sign of the Times\",\"artists\":[{\"artist_id\":\"UCVacQ2t5GUZ2t_J3Ia9BynA\",\"name\":\"Harry Styles\"}],\"album\":{\"album_id\":\"MPREb_uCgvJfkMpA0\",\"name\":\"Harry Styles\"},\"duration\":341,\"thumbnail\":\"https://lh3.googleusercontent.com/-LQ9U3M24vS9KyGUkG_kiTdNF5J9RckMcUwDBAdF7Sj5dN39SO1apKL7dq6zblUQ8XZnO05lqq8e9lbdSw=w120-h120-l90-rj\"},{\"id\":\"8ybQKl8HMFY\",\"name\":\"Harry Styles - Music For a Sushi Restaurant\",\"title\":\"Music For a Sushi Restaurant\",\"artists\":[{\"artist_id\":\"UCVacQ2t5GUZ2t_J3Ia9BynA\",\"name\":\"Harry Styles\"}],\"album\":{\"album_id\":\"MPREb_OVSyn3JG7Ru\",\"name\":\"Harry's House\"},\"duration\":194,\"thumbnail\":\"https://lh3.googleusercontent.com/F618Qwn2yRlYhCqlMtEMnFHajg4rGZSGeWOF4ro7l3I9R6y7aGfowqqiNQqj6CgVR0yepTK6T5aRSfAF=w120-h120-l90-rj\"},{\"id\":\"ls6XtAmqERc\",\"name\":\"Harry Styles - Late Night Talking\",\"title\":\"Late Night Talking\",\"artists\":[{\"artist_id\":\"UCVacQ2t5GUZ2t_J3Ia9BynA\",\"name\":\"Harry Styles\"}],\"album\":{\"album_id\":\"MPREb_OVSyn3JG7Ru\",\"name\":\"Harry's House\"},\"duration\":178,\"thumbnail\":\"https://lh3.googleusercontent.com/F618Qwn2yRlYhCqlMtEMnFHajg4rGZSGeWOF4ro7l3I9R6y7aGfowqqiNQqj6CgVR0yepTK6T5aRSfAF=w120-h120-l90-rj\"},{\"id\":\"KPM_BYl-EaQ\",\"name\":\"Harry Styles - Watermelon Sugar\",\"title\":\"Watermelon Sugar\",\"artists\":[{\"artist_id\":\"UCVacQ2t5GUZ2t_J3Ia9BynA\",\"name\":\"Harry Styles\"}],\"album\":{\"album_id\":\"MPREb_4NGjVeinh8q\",\"name\":\"Fine Line\"},\"duration\":174,\"thumbnail\":\"https://lh3.googleusercontent.com/S81rF7hb7asyWLPyVpaUmHUlUrdY-2yWh4R-OYUiaT-rLNf3z-ipKX_A1z6YDKeqaXph7iP38h73QGE=w120-h120-l90-rj\"},{\"id\":\"vum2bUJwfkI\",\"name\":\"Harry Styles - Adore You\",\"title\":\"Adore You\",\"artists\":[{\"artist_id\":\"UCVacQ2t5GUZ2t_J3Ia9BynA\",\"name\":\"Harry Styles\"}],\"album\":{\"album_id\":\"MPREb_4NGjVeinh8q\",\"name\":\"Fine Line\"},\"duration\":208,\"thumbnail\":\"https://lh3.googleusercontent.com/S81rF7hb7asyWLPyVpaUmHUlUrdY-2yWh4R-OYUiaT-rLNf3z-ipKX_A1z6YDKeqaXph7iP38h73QGE=w120-h120-l90-rj\"},{\"id\":\"FfBBGDZ4lzk\",\"name\":\"Harry Styles - Satellite\",\"title\":\"Satellite\",\"artists\":[{\"artist_id\":\"UCVacQ2t5GUZ2t_J3Ia9BynA\",\"name\":\"Harry Styles\"}],\"album\":{\"album_id\":\"MPREb_OVSyn3JG7Ru\",\"name\":\"Harry's House\"},\"duration\":219,\"thumbnail\":\"https://lh3.googleusercontent.com/F618Qwn2yRlYhCqlMtEMnFHajg4rGZSGeWOF4ro7l3I9R6y7aGfowqqiNQqj6CgVR0yepTK6T5aRSfAF=w120-h120-l90-rj\"},{\"id\":\"m_zZK5ahLo4\",\"name\":\"Harry Styles - Golden\",\"title\":\"Golden\",\"artists\":[{\"artist_id\":\"UCVacQ2t5GUZ2t_J3Ia9BynA\",\"name\":\"Harry Styles\"}],\"album\":{\"album_id\":\"MPREb_4NGjVeinh8q\",\"name\":\"Fine Line\"},\"duration\":209,\"thumbnail\":\"https://lh3.googleusercontent.com/S81rF7hb7asyWLPyVpaUmHUlUrdY-2yWh4R-OYUiaT-rLNf3z-ipKX_A1z6YDKeqaXph7iP38h73QGE=w120-h120-l90-rj\"},{\"id\":\"BViDG6QDe1w\",\"name\":\"Harry Styles - Fine Line\",\"title\":\"Fine Line\",\"artists\":[{\"artist_id\":\"UCVacQ2t5GUZ2t_J3Ia9BynA\",\"name\":\"Harry Styles\"}],\"album\":{\"album_id\":\"MPREb_4NGjVeinh8q\",\"name\":\"Fine Line\"},\"duration\":378,\"thumbnail\":\"https://lh3.googleusercontent.com/S81rF7hb7asyWLPyVpaUmHUlUrdY-2yWh4R-OYUiaT-rLNf3z-ipKX_A1z6YDKeqaXph7iP38h73QGE=w120-h120-l90-rj\"},{\"id\":\"vabmziwg88U\",\"name\":\"Harry Styles - Falling\",\"title\":\"Falling\",\"artists\":[{\"artist_id\":\"UCVacQ2t5GUZ2t_J3Ia9BynA\",\"name\":\"Harry Styles\"}],\"album\":{\"album_id\":\"MPREb_4NGjVeinh8q\",\"name\":\"Fine Line\"},\"duration\":241,\"thumbnail\":\"https://lh3.googleusercontent.com/S81rF7hb7asyWLPyVpaUmHUlUrdY-2yWh4R-OYUiaT-rLNf3z-ipKX_A1z6YDKeqaXph7iP38h73QGE=w120-h120-l90-rj\"},{\"id\":\"4UAZkexQ7Cg\",\"name\":\"Harry Styles - Little Freak\",\"title\":\"Little Freak\",\"artists\":[{\"artist_id\":\"UCVacQ2t5GUZ2t_J3Ia9BynA\",\"name\":\"Harry Styles\"}],\"album\":{\"album_id\":\"MPREb_OVSyn3JG7Ru\",\"name\":\"Harry's House\"},\"duration\":203,\"thumbnail\":\"https://lh3.googleusercontent.com/F618Qwn2yRlYhCqlMtEMnFHajg4rGZSGeWOF4ro7l3I9R6y7aGfowqqiNQqj6CgVR0yepTK6T5aRSfAF=w120-h120-l90-rj\"},{\"id\":\"-elrsfwGdSU\",\"name\":\"Harry Styles - Grapejuice\",\"title\":\"Grapejuice\",\"artists\":[{\"artist_id\":\"UCVacQ2t5GUZ2t_J3Ia9BynA\",\"name\":\"Harry Styles\"}],\"album\":{\"album_id\":\"MPREb_OVSyn3JG7Ru\",\"name\":\"Harry's House\"},\"duration\":192,\"thumbnail\":\"https://lh3.googleusercontent.com/F618Qwn2yRlYhCqlMtEMnFHajg4rGZSGeWOF4ro7l3I9R6y7aGfowqqiNQqj6CgVR0yepTK6T5aRSfAF=w120-h120-l90-rj\"},{\"id\":\"IRfQI9Y6EK0\",\"name\":\"Harry Styles - Matilda\",\"title\":\"Matilda\",\"artists\":[{\"artist_id\":\"UCVacQ2t5GUZ2t_J3Ia9BynA\",\"name\":\"Harry Styles\"}],\"album\":{\"album_id\":\"MPREb_OVSyn3JG7Ru\",\"name\":\"Harry's House\"},\"duration\":246,\"thumbnail\":\"https://lh3.googleusercontent.com/F618Qwn2yRlYhCqlMtEMnFHajg4rGZSGeWOF4ro7l3I9R6y7aGfowqqiNQqj6CgVR0yepTK6T5aRSfAF=w120-h120-l90-rj\"},{\"id\":\"TaDzMTEf8vo\",\"name\":\"Harry Styles - Love Of My Life\",\"title\":\"Love Of My Life\",\"artists\":[{\"artist_id\":\"UCVacQ2t5GUZ2t_J3Ia9BynA\",\"name\":\"Harry Styles\"}],\"album\":{\"album_id\":\"MPREb_OVSyn3JG7Ru\",\"name\":\"Harry's House\"},\"duration\":192,\"thumbnail\":\"https://lh3.googleusercontent.com/F618Qwn2yRlYhCqlMtEMnFHajg4rGZSGeWOF4ro7l3I9R6y7aGfowqqiNQqj6CgVR0yepTK6T5aRSfAF=w120-h120-l90-rj\"},{\"id\":\"Or58KytwxrI\",\"name\":\"Harry Styles - Keep Driving\",\"title\":\"Keep Driving\",\"artists\":[{\"artist_id\":\"UCVacQ2t5GUZ2t_J3Ia9BynA\",\"name\":\"Harry Styles\"}],\"album\":{\"album_id\":\"MPREb_OVSyn3JG7Ru\",\"name\":\"Harry's House\"},\"duration\":141,\"thumbnail\":\"https://lh3.googleusercontent.com/F618Qwn2yRlYhCqlMtEMnFHajg4rGZSGeWOF4ro7l3I9R6y7aGfowqqiNQqj6CgVR0yepTK6T5aRSfAF=w120-h120-l90-rj\"},{\"id\":\"VMi4Rf1bReo\",\"name\":\"Harry Styles - Cinema\",\"title\":\"Cinema\",\"artists\":[{\"artist_id\":\"UCVacQ2t5GUZ2t_J3Ia9BynA\",\"name\":\"Harry Styles\"}],\"album\":{\"album_id\":\"MPREb_OVSyn3JG7Ru\",\"name\":\"Harry's House\"},\"duration\":244,\"thumbnail\":\"https://lh3.googleusercontent.com/F618Qwn2yRlYhCqlMtEMnFHajg4rGZSGeWOF4ro7l3I9R6y7aGfowqqiNQqj6CgVR0yepTK6T5aRSfAF=w120-h120-l90-rj\"},{\"id\":\"2B3BGYHRC0o\",\"name\":\"Harry Styles - Daylight\",\"title\":\"Daylight\",\"artists\":[{\"artist_id\":\"UCVacQ2t5GUZ2t_J3Ia9BynA\",\"name\":\"Harry Styles\"}],\"album\":{\"album_id\":\"MPREb_OVSyn3JG7Ru\",\"name\":\"Harry's House\"},\"duration\":165,\"thumbnail\":\"https://lh3.googleusercontent.com/F618Qwn2yRlYhCqlMtEMnFHajg4rGZSGeWOF4ro7l3I9R6y7aGfowqqiNQqj6CgVR0yepTK6T5aRSfAF=w120-h120-l90-rj\"},{\"id\":\"5tBsgWThDa8\",\"name\":\"Harry Styles - Kiwi\",\"title\":\"Kiwi\",\"artists\":[{\"artist_id\":\"UCVacQ2t5GUZ2t_J3Ia9BynA\",\"name\":\"Harry Styles\"}],\"album\":{\"album_id\":\"MPREb_uCgvJfkMpA0\",\"name\":\"Harry Styles\"},\"duration\":177,\"thumbnail\":\"https://lh3.googleusercontent.com/-LQ9U3M24vS9KyGUkG_kiTdNF5J9RckMcUwDBAdF7Sj5dN39SO1apKL7dq6zblUQ8XZnO05lqq8e9lbdSw=w120-h120-l90-rj\"},{\"id\":\"ZjsmxKP1HMk\",\"name\":\"Harry Styles - Treat People With Kindness\",\"title\":\"Treat People With Kindness\",\"artists\":[{\"artist_id\":\"UCVacQ2t5GUZ2t_J3Ia9BynA\",\"name\":\"Harry Styles\"}],\"album\":{\"album_id\":\"MPREb_4NGjVeinh8q\",\"name\":\"Fine Line\"},\"duration\":198,\"thumbnail\":\"https://lh3.googleusercontent.com/S81rF7hb7asyWLPyVpaUmHUlUrdY-2yWh4R-OYUiaT-rLNf3z-ipKX_A1z6YDKeqaXph7iP38h73QGE=w120-h120-l90-rj\"},{\"id\":\"LbMupcmeSpY\",\"name\":\"Harry Styles - She\",\"title\":\"She\",\"artists\":[{\"artist_id\":\"UCVacQ2t5GUZ2t_J3Ia9BynA\",\"name\":\"Harry Styles\"}],\"album\":{\"album_id\":\"MPREb_4NGjVeinh8q\",\"name\":\"Fine Line\"},\"duration\":363,\"thumbnail\":\"https://lh3.googleusercontent.com/S81rF7hb7asyWLPyVpaUmHUlUrdY-2yWh4R-OYUiaT-rLNf3z-ipKX_A1z6YDKeqaXph7iP38h73QGE=w120-h120-l90-rj\"}],\"videos\":[{\"id\":\"CiwMDFh_Rog\",\"title\":\"Music For a Sushi Restaurant (Official Video)\",\"duration\":209},{\"id\":\"H5v3kku4y6Q\",\"title\":\"As It Was\",\"duration\":166},{\"id\":\"qN4ooNx77u0\",\"title\":\"Sign of the Times (Official Video)\",\"duration\":342},{\"id\":\"E07s5ZYygMg\",\"title\":\"Watermelon Sugar\",\"duration\":189},{\"id\":\"j0QzkT1SjAU\",\"title\":\"Harry Styles - Music For a Sushi Restaurant (Official Video)\",\"duration\":192},{\"id\":\"4VaqA-5aQTM\",\"title\":\"Late Night Talking (Official Video)\",\"duration\":196},{\"id\":\"VF-r5TtlT9w\",\"title\":\"Adore You\",\"duration\":219},{\"id\":\"P3cffdsEXXw\",\"title\":\"Golden\",\"duration\":210},{\"id\":\"jte7I4BO0WQ\",\"title\":\"As It Was\",\"duration\":181},{\"id\":\"Y8cnCtzu1Gg\",\"title\":\"As It Was\",\"duration\":168},{\"id\":\"s8MlHTI7bUE\",\"title\":\"As It Was – Live from One Night Only in New York\",\"duration\":180},{\"id\":\"J-G3DPx0pzE\",\"title\":\"Harry Styles - Watermelon Sugar (GRAMMYs Full Live Performance) 2021 HD\",\"duration\":225},{\"id\":\"9wg3v-01yKQ\",\"title\":\"Kiwi\",\"duration\":183},{\"id\":\"nQA97xS49LQ\",\"title\":\"Harry Styles - Watermelon Sugar (Lyrics)\",\"duration\":175},{\"id\":\"Tqm7-zN5s8k\",\"title\":\"Harry Styles Covers Peter Gabriel’s “Sledgehammer” Live on the Howard Stern Show\",\"duration\":337},{\"id\":\"uPS1qFK6PAM\",\"title\":\"Harry Styles - Juice (Lizzo cover) in the Live Lounge\",\"duration\":205},{\"id\":\"L0X03zR0rQk\",\"title\":\"Treat People With Kindness\",\"duration\":202}]}}\n"
     ]
    }
   ],
   "source": [
    "import requests\n",
    "artist = input(\"Enter artist name:\") # allow user to input the artist they want\n",
    "\n",
    "url = \"https://youtube-music1.p.rapidapi.com/v2/search\"\n",
    "\n",
    "querystring = {\"query\":artist}\n",
    "\n",
    "headers = {\n",
    "\t    \"X-RapidAPI-Key\": \"4a1e45ca8dmshcde31ef8a5baed3p1a2a7ejsn9952d2cf96bd\", # use personal key\n",
    "\t    \"X-RapidAPI-Host\": \"youtube-music1.p.rapidapi.com\"\n",
    "    }\n",
    "\n",
    "response = requests.request(\"GET\", url, headers=headers, params=querystring)\n",
    "print("response.text")"
   ]
  },
  {
   "cell_type": "code",
   "execution_count": 5,
   "metadata": {},
   "outputs": [
    {
     "name": "stdout",
     "output_type": "stream",
     "text": [
      "Artist's Albums:\n",
      "Harry's House\n",
      "Harry Styles\n",
      "Fine Line\n",
      "Song's in Fine Line\n",
      "Harry Styles - Watermelon Sugar\n",
      "Song's in Fine Line\n",
      "Harry Styles - Adore You\n",
      "Song's in Fine Line\n",
      "Harry Styles - Golden\n",
      "Song's in Fine Line\n",
      "Harry Styles - Fine Line\n",
      "Song's in Fine Line\n",
      "Harry Styles - Falling\n",
      "Song's in Fine Line\n",
      "Harry Styles - Treat People With Kindness\n"
     ]
    }
   ],
   "source": [
    "\n",
    "import requests\n",
    "artist = input(\"Enter artist name:\") # allow user to input the artist they want\n",
    "\n",
    "url = \"https://youtube-music1.p.rapidapi.com/v2/search\"\n",
    "\n",
    "querystring = {\"query\":artist}\n",
    "\n",
    "headers = {\n",
    "\t    \"X-RapidAPI-Key\": \"4a1e45ca8dmshcde31ef8a5baed3p1a2a7ejsn9952d2cf96bd\", # use personal key\n",
    "\t    \"X-RapidAPI-Host\": \"youtube-music1.p.rapidapi.com\"\n",
    "    }\n",
    "\n",
    "response = requests.request(\"GET\", url, headers=headers, params=querystring)\n",
    "\n",
    "# print(response.text) # print all data that is in API\n",
    "\n",
    "\n",
    "import json # using .json to reorganize raw data\n",
    "\n",
    "    # define variables and assign a value\n",
    "string_val = response.text\n",
    "dict_val = json.loads(string_val)\n",
    "album_list = [] # create a new list to start from scratch\n",
    "songlist = dict_val[\"result\"][\"songs\"] # dictionary values from API dictionary\n",
    "\n",
    "def music_function(): # define whole function\n",
    "    print(\"Artist's Albums:\")\n",
    "    for song in songlist:\n",
    "        if song[\"album\"][\"name\"] not in album_list: \n",
    "            album_list.append(song[\"album\"][\"name\"]) # if the songs album is not in the album list then the .append code will add\n",
    "\n",
    "\n",
    "    for albumname in album_list: # all albums in new album list is printed one by one\n",
    "        print(albumname)\n",
    "    album = input(\"Enter album name:\") # let user choose an album\n",
    "\n",
    "    found = False # by default nothing is found\n",
    "    for song in songlist:\n",
    "        if song[\"album\"][\"name\"] == album: # if machine is able to find song name in dictionary then song names will be printed\n",
    "            print(\"Song's in \" + album)\n",
    "            print(song[\"name\"])\n",
    "            found = True # variable is now set as true\n",
    "\n",
    "    if found == False: \n",
    "        print(\"Information not found\") # if correct info not added then output will tell user\n",
    "\n",
    "music_function() # call the function that was defined before"
   ]
  },
  {
   "cell_type": "code",
   "execution_count": 22,
   "metadata": {},
   "outputs": [
    {
     "name": "stdout",
     "output_type": "stream",
     "text": [
      "[True, 0]\n"
     ]
    }
   ],
   "source": [
    "likes = 0\n",
    "name = artist in response.text\n",
    "likes_data = [name , likes]\n",
    "print(likes_data)"
   ]
  },
  {
   "cell_type": "code",
   "execution_count": 40,
   "metadata": {},
   "outputs": [
    {
     "data": {
      "text/plain": [
       "dict_values([{'songs': [{'id': 'nujn6wbr-e8', 'name': 'Harry Styles - As It Was', 'title': 'As It Was', 'artists': [{'artist_id': 'UCVacQ2t5GUZ2t_J3Ia9BynA', 'name': 'Harry Styles'}], 'album': {'album_id': 'MPREb_OVSyn3JG7Ru', 'name': \"Harry's House\"}, 'duration': 168, 'thumbnail': 'https://lh3.googleusercontent.com/F618Qwn2yRlYhCqlMtEMnFHajg4rGZSGeWOF4ro7l3I9R6y7aGfowqqiNQqj6CgVR0yepTK6T5aRSfAF=w120-h120-l90-rj'}, {'id': 'oHVVoe2Vj8s', 'name': 'Harry Styles - Sign of the Times', 'title': 'Sign of the Times', 'artists': [{'artist_id': 'UCVacQ2t5GUZ2t_J3Ia9BynA', 'name': 'Harry Styles'}], 'album': {'album_id': 'MPREb_uCgvJfkMpA0', 'name': 'Harry Styles'}, 'duration': 341, 'thumbnail': 'https://lh3.googleusercontent.com/-LQ9U3M24vS9KyGUkG_kiTdNF5J9RckMcUwDBAdF7Sj5dN39SO1apKL7dq6zblUQ8XZnO05lqq8e9lbdSw=w120-h120-l90-rj'}, {'id': 'ls6XtAmqERc', 'name': 'Harry Styles - Late Night Talking', 'title': 'Late Night Talking', 'artists': [{'artist_id': 'UCVacQ2t5GUZ2t_J3Ia9BynA', 'name': 'Harry Styles'}], 'album': {'album_id': 'MPREb_OVSyn3JG7Ru', 'name': \"Harry's House\"}, 'duration': 178, 'thumbnail': 'https://lh3.googleusercontent.com/F618Qwn2yRlYhCqlMtEMnFHajg4rGZSGeWOF4ro7l3I9R6y7aGfowqqiNQqj6CgVR0yepTK6T5aRSfAF=w120-h120-l90-rj'}, {'id': '8ybQKl8HMFY', 'name': 'Harry Styles - Music For a Sushi Restaurant', 'title': 'Music For a Sushi Restaurant', 'artists': [{'artist_id': 'UCVacQ2t5GUZ2t_J3Ia9BynA', 'name': 'Harry Styles'}], 'album': {'album_id': 'MPREb_OVSyn3JG7Ru', 'name': \"Harry's House\"}, 'duration': 194, 'thumbnail': 'https://lh3.googleusercontent.com/F618Qwn2yRlYhCqlMtEMnFHajg4rGZSGeWOF4ro7l3I9R6y7aGfowqqiNQqj6CgVR0yepTK6T5aRSfAF=w120-h120-l90-rj'}, {'id': 'vum2bUJwfkI', 'name': 'Harry Styles - Adore You', 'title': 'Adore You', 'artists': [{'artist_id': 'UCVacQ2t5GUZ2t_J3Ia9BynA', 'name': 'Harry Styles'}], 'album': {'album_id': 'MPREb_4NGjVeinh8q', 'name': 'Fine Line'}, 'duration': 208, 'thumbnail': 'https://lh3.googleusercontent.com/S81rF7hb7asyWLPyVpaUmHUlUrdY-2yWh4R-OYUiaT-rLNf3z-ipKX_A1z6YDKeqaXph7iP38h73QGE=w120-h120-l90-rj'}, {'id': 'FfBBGDZ4lzk', 'name': 'Harry Styles - Satellite', 'title': 'Satellite', 'artists': [{'artist_id': 'UCVacQ2t5GUZ2t_J3Ia9BynA', 'name': 'Harry Styles'}], 'album': {'album_id': 'MPREb_OVSyn3JG7Ru', 'name': \"Harry's House\"}, 'duration': 219, 'thumbnail': 'https://lh3.googleusercontent.com/F618Qwn2yRlYhCqlMtEMnFHajg4rGZSGeWOF4ro7l3I9R6y7aGfowqqiNQqj6CgVR0yepTK6T5aRSfAF=w120-h120-l90-rj'}, {'id': 'KPM_BYl-EaQ', 'name': 'Harry Styles - Watermelon Sugar', 'title': 'Watermelon Sugar', 'artists': [{'artist_id': 'UCVacQ2t5GUZ2t_J3Ia9BynA', 'name': 'Harry Styles'}], 'album': {'album_id': 'MPREb_4NGjVeinh8q', 'name': 'Fine Line'}, 'duration': 174, 'thumbnail': 'https://lh3.googleusercontent.com/S81rF7hb7asyWLPyVpaUmHUlUrdY-2yWh4R-OYUiaT-rLNf3z-ipKX_A1z6YDKeqaXph7iP38h73QGE=w120-h120-l90-rj'}, {'id': 'm_zZK5ahLo4', 'name': 'Harry Styles - Golden', 'title': 'Golden', 'artists': [{'artist_id': 'UCVacQ2t5GUZ2t_J3Ia9BynA', 'name': 'Harry Styles'}], 'album': {'album_id': 'MPREb_4NGjVeinh8q', 'name': 'Fine Line'}, 'duration': 209, 'thumbnail': 'https://lh3.googleusercontent.com/S81rF7hb7asyWLPyVpaUmHUlUrdY-2yWh4R-OYUiaT-rLNf3z-ipKX_A1z6YDKeqaXph7iP38h73QGE=w120-h120-l90-rj'}, {'id': 'vabmziwg88U', 'name': 'Harry Styles - Falling', 'title': 'Falling', 'artists': [{'artist_id': 'UCVacQ2t5GUZ2t_J3Ia9BynA', 'name': 'Harry Styles'}], 'album': {'album_id': 'MPREb_4NGjVeinh8q', 'name': 'Fine Line'}, 'duration': 241, 'thumbnail': 'https://lh3.googleusercontent.com/S81rF7hb7asyWLPyVpaUmHUlUrdY-2yWh4R-OYUiaT-rLNf3z-ipKX_A1z6YDKeqaXph7iP38h73QGE=w120-h120-l90-rj'}, {'id': '4UAZkexQ7Cg', 'name': 'Harry Styles - Little Freak', 'title': 'Little Freak', 'artists': [{'artist_id': 'UCVacQ2t5GUZ2t_J3Ia9BynA', 'name': 'Harry Styles'}], 'album': {'album_id': 'MPREb_OVSyn3JG7Ru', 'name': \"Harry's House\"}, 'duration': 203, 'thumbnail': 'https://lh3.googleusercontent.com/F618Qwn2yRlYhCqlMtEMnFHajg4rGZSGeWOF4ro7l3I9R6y7aGfowqqiNQqj6CgVR0yepTK6T5aRSfAF=w120-h120-l90-rj'}, {'id': 'BViDG6QDe1w', 'name': 'Harry Styles - Fine Line', 'title': 'Fine Line', 'artists': [{'artist_id': 'UCVacQ2t5GUZ2t_J3Ia9BynA', 'name': 'Harry Styles'}], 'album': {'album_id': 'MPREb_4NGjVeinh8q', 'name': 'Fine Line'}, 'duration': 378, 'thumbnail': 'https://lh3.googleusercontent.com/S81rF7hb7asyWLPyVpaUmHUlUrdY-2yWh4R-OYUiaT-rLNf3z-ipKX_A1z6YDKeqaXph7iP38h73QGE=w120-h120-l90-rj'}, {'id': 'IRfQI9Y6EK0', 'name': 'Harry Styles - Matilda', 'title': 'Matilda', 'artists': [{'artist_id': 'UCVacQ2t5GUZ2t_J3Ia9BynA', 'name': 'Harry Styles'}], 'album': {'album_id': 'MPREb_OVSyn3JG7Ru', 'name': \"Harry's House\"}, 'duration': 246, 'thumbnail': 'https://lh3.googleusercontent.com/F618Qwn2yRlYhCqlMtEMnFHajg4rGZSGeWOF4ro7l3I9R6y7aGfowqqiNQqj6CgVR0yepTK6T5aRSfAF=w120-h120-l90-rj'}, {'id': '2B3BGYHRC0o', 'name': 'Harry Styles - Daylight', 'title': 'Daylight', 'artists': [{'artist_id': 'UCVacQ2t5GUZ2t_J3Ia9BynA', 'name': 'Harry Styles'}], 'album': {'album_id': 'MPREb_OVSyn3JG7Ru', 'name': \"Harry's House\"}, 'duration': 165, 'thumbnail': 'https://lh3.googleusercontent.com/F618Qwn2yRlYhCqlMtEMnFHajg4rGZSGeWOF4ro7l3I9R6y7aGfowqqiNQqj6CgVR0yepTK6T5aRSfAF=w120-h120-l90-rj'}, {'id': '-elrsfwGdSU', 'name': 'Harry Styles - Grapejuice', 'title': 'Grapejuice', 'artists': [{'artist_id': 'UCVacQ2t5GUZ2t_J3Ia9BynA', 'name': 'Harry Styles'}], 'album': {'album_id': 'MPREb_OVSyn3JG7Ru', 'name': \"Harry's House\"}, 'duration': 192, 'thumbnail': 'https://lh3.googleusercontent.com/F618Qwn2yRlYhCqlMtEMnFHajg4rGZSGeWOF4ro7l3I9R6y7aGfowqqiNQqj6CgVR0yepTK6T5aRSfAF=w120-h120-l90-rj'}, {'id': 'TaDzMTEf8vo', 'name': 'Harry Styles - Love Of My Life', 'title': 'Love Of My Life', 'artists': [{'artist_id': 'UCVacQ2t5GUZ2t_J3Ia9BynA', 'name': 'Harry Styles'}], 'album': {'album_id': 'MPREb_OVSyn3JG7Ru', 'name': \"Harry's House\"}, 'duration': 192, 'thumbnail': 'https://lh3.googleusercontent.com/F618Qwn2yRlYhCqlMtEMnFHajg4rGZSGeWOF4ro7l3I9R6y7aGfowqqiNQqj6CgVR0yepTK6T5aRSfAF=w120-h120-l90-rj'}, {'id': 'VMi4Rf1bReo', 'name': 'Harry Styles - Cinema', 'title': 'Cinema', 'artists': [{'artist_id': 'UCVacQ2t5GUZ2t_J3Ia9BynA', 'name': 'Harry Styles'}], 'album': {'album_id': 'MPREb_OVSyn3JG7Ru', 'name': \"Harry's House\"}, 'duration': 244, 'thumbnail': 'https://lh3.googleusercontent.com/F618Qwn2yRlYhCqlMtEMnFHajg4rGZSGeWOF4ro7l3I9R6y7aGfowqqiNQqj6CgVR0yepTK6T5aRSfAF=w120-h120-l90-rj'}, {'id': 'LbMupcmeSpY', 'name': 'Harry Styles - She', 'title': 'She', 'artists': [{'artist_id': 'UCVacQ2t5GUZ2t_J3Ia9BynA', 'name': 'Harry Styles'}], 'album': {'album_id': 'MPREb_4NGjVeinh8q', 'name': 'Fine Line'}, 'duration': 363, 'thumbnail': 'https://lh3.googleusercontent.com/S81rF7hb7asyWLPyVpaUmHUlUrdY-2yWh4R-OYUiaT-rLNf3z-ipKX_A1z6YDKeqaXph7iP38h73QGE=w120-h120-l90-rj'}, {'id': '5tBsgWThDa8', 'name': 'Harry Styles - Kiwi', 'title': 'Kiwi', 'artists': [{'artist_id': 'UCVacQ2t5GUZ2t_J3Ia9BynA', 'name': 'Harry Styles'}], 'album': {'album_id': 'MPREb_uCgvJfkMpA0', 'name': 'Harry Styles'}, 'duration': 177, 'thumbnail': 'https://lh3.googleusercontent.com/-LQ9U3M24vS9KyGUkG_kiTdNF5J9RckMcUwDBAdF7Sj5dN39SO1apKL7dq6zblUQ8XZnO05lqq8e9lbdSw=w120-h120-l90-rj'}, {'id': 'Or58KytwxrI', 'name': 'Harry Styles - Keep Driving', 'title': 'Keep Driving', 'artists': [{'artist_id': 'UCVacQ2t5GUZ2t_J3Ia9BynA', 'name': 'Harry Styles'}], 'album': {'album_id': 'MPREb_OVSyn3JG7Ru', 'name': \"Harry's House\"}, 'duration': 141, 'thumbnail': 'https://lh3.googleusercontent.com/F618Qwn2yRlYhCqlMtEMnFHajg4rGZSGeWOF4ro7l3I9R6y7aGfowqqiNQqj6CgVR0yepTK6T5aRSfAF=w120-h120-l90-rj'}, {'id': 'DMVbOK6n2ho', 'name': 'Harry Styles - Daydreaming', 'title': 'Daydreaming', 'artists': [{'artist_id': 'UCVacQ2t5GUZ2t_J3Ia9BynA', 'name': 'Harry Styles'}], 'album': {'album_id': 'MPREb_OVSyn3JG7Ru', 'name': \"Harry's House\"}, 'duration': 188, 'thumbnail': 'https://lh3.googleusercontent.com/F618Qwn2yRlYhCqlMtEMnFHajg4rGZSGeWOF4ro7l3I9R6y7aGfowqqiNQqj6CgVR0yepTK6T5aRSfAF=w120-h120-l90-rj'}], 'videos': [{'id': 'CiwMDFh_Rog', 'title': 'Music For a Sushi Restaurant (Official Video)', 'duration': 209}, {'id': 'H5v3kku4y6Q', 'title': 'As It Was', 'duration': 166}, {'id': 'qN4ooNx77u0', 'title': 'Sign of the Times (Official Video)', 'duration': 342}, {'id': 'E07s5ZYygMg', 'title': 'Watermelon Sugar', 'duration': 189}, {'id': 'VF-r5TtlT9w', 'title': 'Adore You', 'duration': 219}, {'id': '4VaqA-5aQTM', 'title': 'Late Night Talking (Official Video)', 'duration': 196}, {'id': 'P3cffdsEXXw', 'title': 'Golden', 'duration': 210}, {'id': 'j0QzkT1SjAU', 'title': 'Harry Styles - Music For a Sushi Restaurant (Official Video)', 'duration': 192}, {'id': 'olGSAVOkkTI', 'title': 'Falling', 'duration': 236}, {'id': 'Tqm7-zN5s8k', 'title': 'Harry Styles Covers Peter Gabriel’s “Sledgehammer” Live on the Howard Stern Show', 'duration': 337}, {'id': 'L0X03zR0rQk', 'title': 'Treat People With Kindness', 'duration': 202}, {'id': 'jte7I4BO0WQ', 'title': 'As It Was', 'duration': 181}, {'id': 'nQA97xS49LQ', 'title': 'Harry Styles - Watermelon Sugar (Lyrics)', 'duration': 175}, {'id': 'Y8cnCtzu1Gg', 'title': 'As It Was', 'duration': 168}, {'id': '9wg3v-01yKQ', 'title': 'Kiwi', 'duration': 183}, {'id': 's8MlHTI7bUE', 'title': 'As It Was – Live from One Night Only in New York', 'duration': 180}]}])"
      ]
     },
     "execution_count": 40,
     "metadata": {},
     "output_type": "execute_result"
    }
   ],
   "source": [
    "dict_val.pop('ok')\n",
    "dict_val.pop('')\n",
    "dict_val.values()"
   ]
  }
 ],
 "metadata": {
  "kernelspec": {
   "display_name": "Python 3.8.10 64-bit",
   "language": "python",
   "name": "python3"
  },
  "language_info": {
   "codemirror_mode": {
    "name": "ipython",
    "version": 3
   },
   "file_extension": ".py",
   "mimetype": "text/x-python",
   "name": "python",
   "nbconvert_exporter": "python",
   "pygments_lexer": "ipython3",
   "version": "3.8.10"
  },
  "orig_nbformat": 4,
  "vscode": {
   "interpreter": {
    "hash": "916dbcbb3f70747c44a77c7bcd40155683ae19c65e1c03b4aa3499c5328201f1"
   }
  }
 },
 "nbformat": 4,
 "nbformat_minor": 2
}
