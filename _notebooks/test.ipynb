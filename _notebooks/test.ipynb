{
 "cells": [
  {
   "cell_type": "code",
   "execution_count": 4,
   "metadata": {},
   "outputs": [
    {
     "name": "stdout",
     "output_type": "stream",
     "text": [
      "Artist's Albums:\n",
      "PRISM (Deluxe)\n",
      "Teenage Dream\n",
      "Hot N Cold\n",
      "Where We Started\n",
      "I Kissed A Girl\n",
      "Teenage Dream: The Complete Confection\n",
      "Cozy Little Christmas\n",
      "Witness (Deluxe)\n",
      "Smile\n",
      "Katy Perry - Hot N Cold\n"
     ]
    }
   ],
   "source": [
    "def music_function(): # define whole function\n",
    "    import requests\n",
    "    artist = input(\"Enter artist name:\") # allow user to input the artist they want\n",
    "\n",
    "    url = \"https://youtube-music1.p.rapidapi.com/v2/search\"\n",
    "\n",
    "    querystring = {\"query\":artist}\n",
    "\n",
    "    headers = {\n",
    "\t    \"X-RapidAPI-Key\": \"4a1e45ca8dmshcde31ef8a5baed3p1a2a7ejsn9952d2cf96bd\", # use personal key\n",
    "\t    \"X-RapidAPI-Host\": \"youtube-music1.p.rapidapi.com\"\n",
    "    }\n",
    "\n",
    "    response = requests.request(\"GET\", url, headers=headers, params=querystring)\n",
    "\n",
    "    # print(response.text) # print all data that is in API\n",
    "\n",
    "\n",
    "    import json # using .json to reorganize raw data\n",
    "\n",
    "    # define variables and assign a value\n",
    "    string_val = response.text\n",
    "    dict_val = json.loads(string_val)\n",
    "    album_list = [] # create a new list to start from scratch\n",
    "    songlist = dict_val[\"result\"][\"songs\"] # dictionary values from API dictionary\n",
    "\n",
    "    print(\"Artist's Albums:\")\n",
    "    for song in songlist:\n",
    "        if song[\"album\"][\"name\"] not in album_list: \n",
    "            album_list.append(song[\"album\"][\"name\"]) # if the songs album is not in the album list then the .append code will add\n",
    "\n",
    "\n",
    "    for albumname in album_list: # all albums in new album list is printed one by one\n",
    "        print(albumname)\n",
    "    album = input(\"Enter album name:\") # let user choose an album\n",
    "\n",
    "    found = False # by default nothing is found\n",
    "    for song in songlist:\n",
    "        if song[\"album\"][\"name\"] == album: # if machine is able to find song name in dictionary then song names will be printed\n",
    "            print(song[\"name\"])\n",
    "            found = True # variable is now set as true\n",
    "\n",
    "    if found == False: \n",
    "        print(\"Information not found\") # if correct info not added then output will tell user\n",
    "\n",
    "music_function() # call the function that was defined before"
   ]
  },
  {
   "cell_type": "code",
   "execution_count": 5,
   "metadata": {},
   "outputs": [
    {
     "ename": "NameError",
     "evalue": "name 'response' is not defined",
     "output_type": "error",
     "traceback": [
      "\u001b[0;31m---------------------------------------------------------------------------\u001b[0m",
      "\u001b[0;31mNameError\u001b[0m                                 Traceback (most recent call last)",
      "\u001b[1;32m/home/tanishapatil/vscode/group_flask/_notebooks/test.ipynb Cell 2\u001b[0m in \u001b[0;36m<cell line: 16>\u001b[0;34m()\u001b[0m\n\u001b[1;32m      <a href='vscode-notebook-cell://wsl%2Bubuntu/home/tanishapatil/vscode/group_flask/_notebooks/test.ipynb#W1sdnNjb2RlLXJlbW90ZQ%3D%3D?line=8'>9</a>\u001b[0m     headers \u001b[39m=\u001b[39m {\n\u001b[1;32m     <a href='vscode-notebook-cell://wsl%2Bubuntu/home/tanishapatil/vscode/group_flask/_notebooks/test.ipynb#W1sdnNjb2RlLXJlbW90ZQ%3D%3D?line=9'>10</a>\u001b[0m \t    \u001b[39m\"\u001b[39m\u001b[39mX-RapidAPI-Key\u001b[39m\u001b[39m\"\u001b[39m: \u001b[39m\"\u001b[39m\u001b[39m4a1e45ca8dmshcde31ef8a5baed3p1a2a7ejsn9952d2cf96bd\u001b[39m\u001b[39m\"\u001b[39m, \u001b[39m# use personal key\u001b[39;00m\n\u001b[1;32m     <a href='vscode-notebook-cell://wsl%2Bubuntu/home/tanishapatil/vscode/group_flask/_notebooks/test.ipynb#W1sdnNjb2RlLXJlbW90ZQ%3D%3D?line=10'>11</a>\u001b[0m \t    \u001b[39m\"\u001b[39m\u001b[39mX-RapidAPI-Host\u001b[39m\u001b[39m\"\u001b[39m: \u001b[39m\"\u001b[39m\u001b[39myoutube-music1.p.rapidapi.com\u001b[39m\u001b[39m\"\u001b[39m\n\u001b[1;32m     <a href='vscode-notebook-cell://wsl%2Bubuntu/home/tanishapatil/vscode/group_flask/_notebooks/test.ipynb#W1sdnNjb2RlLXJlbW90ZQ%3D%3D?line=11'>12</a>\u001b[0m     }\n\u001b[1;32m     <a href='vscode-notebook-cell://wsl%2Bubuntu/home/tanishapatil/vscode/group_flask/_notebooks/test.ipynb#W1sdnNjb2RlLXJlbW90ZQ%3D%3D?line=13'>14</a>\u001b[0m     response \u001b[39m=\u001b[39m requests\u001b[39m.\u001b[39mrequest(\u001b[39m\"\u001b[39m\u001b[39mGET\u001b[39m\u001b[39m\"\u001b[39m, url, headers\u001b[39m=\u001b[39mheaders, params\u001b[39m=\u001b[39mquerystring)\n\u001b[0;32m---> <a href='vscode-notebook-cell://wsl%2Bubuntu/home/tanishapatil/vscode/group_flask/_notebooks/test.ipynb#W1sdnNjb2RlLXJlbW90ZQ%3D%3D?line=15'>16</a>\u001b[0m \u001b[39mprint\u001b[39m(response\u001b[39m.\u001b[39mtext)\n",
      "\u001b[0;31mNameError\u001b[0m: name 'response' is not defined"
     ]
    }
   ],
   "source": [
    "def music_function(): # define whole function\n",
    "    import requests\n",
    "    artist = input(\"Enter artist name:\") # allow user to input the artist they want\n",
    "\n",
    "    url = \"https://youtube-music1.p.rapidapi.com/v2/search\"\n",
    "\n",
    "    querystring = {\"query\":artist}\n",
    "\n",
    "    headers = {\n",
    "\t    \"X-RapidAPI-Key\": \"4a1e45ca8dmshcde31ef8a5baed3p1a2a7ejsn9952d2cf96bd\", # use personal key\n",
    "\t    \"X-RapidAPI-Host\": \"youtube-music1.p.rapidapi.com\"\n",
    "    }\n",
    "\n",
    "    response = requests.request(\"GET\", url, headers=headers, params=querystring)\n",
    "\n",
    "print(response.text) # print all data that is in API"
   ]
  }
 ],
 "metadata": {
  "kernelspec": {
   "display_name": "Python 3.8.10 64-bit",
   "language": "python",
   "name": "python3"
  },
  "language_info": {
   "codemirror_mode": {
    "name": "ipython",
    "version": 3
   },
   "file_extension": ".py",
   "mimetype": "text/x-python",
   "name": "python",
   "nbconvert_exporter": "python",
   "pygments_lexer": "ipython3",
   "version": "3.8.10"
  },
  "orig_nbformat": 4,
  "vscode": {
   "interpreter": {
    "hash": "916dbcbb3f70747c44a77c7bcd40155683ae19c65e1c03b4aa3499c5328201f1"
   }
  }
 },
 "nbformat": 4,
 "nbformat_minor": 2
}
